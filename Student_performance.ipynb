{
  "nbformat": 4,
  "nbformat_minor": 0,
  "metadata": {
    "colab": {
      "provenance": [],
      "authorship_tag": "ABX9TyPqaHR7//VCGD45fzTkTuNS",
      "include_colab_link": true
    },
    "kernelspec": {
      "name": "python3",
      "display_name": "Python 3"
    },
    "language_info": {
      "name": "python"
    }
  },
  "cells": [
    {
      "cell_type": "markdown",
      "metadata": {
        "id": "view-in-github",
        "colab_type": "text"
      },
      "source": [
        "<a href=\"https://colab.research.google.com/github/RohanRaghav/Student_performance/blob/main/Student_performance.ipynb\" target=\"_parent\"><img src=\"https://colab.research.google.com/assets/colab-badge.svg\" alt=\"Open In Colab\"/></a>"
      ]
    },
    {
      "cell_type": "code",
      "execution_count": 1,
      "metadata": {
        "colab": {
          "base_uri": "https://localhost:8080/"
        },
        "id": "gu3uCgJ4_GWo",
        "outputId": "3df1928b-a169-49fc-bc7c-b3e7ac7a1ebc"
      },
      "outputs": [
        {
          "output_type": "stream",
          "name": "stdout",
          "text": [
            "            Timestamp  CGPA Part of any club or society  \\\n",
            "0  2/15/2025 14:15:46   9.0                        Both   \n",
            "1  2/15/2025 14:19:35   8.8                         NaN   \n",
            "2  2/15/2025 14:20:57   7.4                        Club   \n",
            "3  2/15/2025 14:23:02   6.2                        Both   \n",
            "4  2/15/2025 14:27:13   6.6                     Society   \n",
            "\n",
            "  Position in club or society              Sports Any internship yet  \\\n",
            "0                    Director   Plays indoor game                 No   \n",
            "1                  Not a part  Plays outdoor game             online   \n",
            "2                   Executive  Plays outdoor game            offline   \n",
            "3             Student advisor  Plays outdoor game    offline, online   \n",
            "4                   Treasurer                 NaN            offline   \n",
            "\n",
            "   How many Competitions participated? (0 if none) Participated in hackathon?  \\\n",
            "0                                                1                        Yes   \n",
            "1                                                0                        Yes   \n",
            "2                                                0                        Yes   \n",
            "3                                               12                        Yes   \n",
            "4                                                5                         No   \n",
            "\n",
            "   How many Online hackathons(0 if not participated)  \\\n",
            "0                                                  2   \n",
            "1                                                  1   \n",
            "2                                                  7   \n",
            "3                                                 10   \n",
            "4                                                  0   \n",
            "\n",
            "   How many offline hackathons(0 if not participated)  \n",
            "0                                                  8   \n",
            "1                                                  7   \n",
            "2                                                  2   \n",
            "3                                                 12   \n",
            "4                                                  0   \n"
          ]
        }
      ],
      "source": [
        "import pandas as pd\n",
        "\n",
        "# Load your CSV file (update the filename)\n",
        "data = pd.read_csv('/content/Project - Form Responses 1.csv')\n",
        "\n",
        "# Preview the data\n",
        "print(data.head())"
      ]
    },
    {
      "cell_type": "code",
      "source": [
        "# Encoding \"Part of any club or society\"\n",
        "data['Part of any club or society'] = data['Part of any club or society'].map({\n",
        "    'None': 0, 'Club': 1, 'Society': 2, 'Both': 3\n",
        "})\n",
        "\n",
        "# Encoding \"Position in club or society\" using ordinal mapping\n",
        "position_mapping = {\n",
        "    'Not a part': 0, 'Intern': 1, 'Co-executive': 2, 'Executive': 3, 'Director': 4,\n",
        "    'Treasurer': 5, 'Joint-secretary': 6, 'Secretary': 7, 'Student advisor': 8\n",
        "}\n",
        "data['Position in club or society'] = data['Position in club or society'].map(position_mapping)\n",
        "\n",
        "# Encoding \"Sports\"\n",
        "data['Sports'] = data['Sports'].map({\n",
        "    'None': 0, 'Plays outdoor game': 1, 'Plays indoor game': 2\n",
        "})\n",
        "\n",
        "# Encoding \"Any internship yet\"\n",
        "data['Any internship yet'] = data['Any internship yet'].map({\n",
        "    'No': 0, 'offline': 1, 'online': 2\n",
        "})\n",
        "\n",
        "# Encoding \"Participated in hackathon?\"\n",
        "data['Participated in hackathon?'] = data['Participated in hackathon?'].map({\n",
        "    'No': 0, 'Yes': 1\n",
        "})\n",
        "data.fillna(0, inplace=True)  # Or you can choose a different strategy\n",
        "print(data.head())\n"
      ],
      "metadata": {
        "colab": {
          "base_uri": "https://localhost:8080/"
        },
        "id": "H3bPTxzQ_ce7",
        "outputId": "32450bcc-028f-4827-8cd8-e2ff9ccb5a05"
      },
      "execution_count": 4,
      "outputs": [
        {
          "output_type": "stream",
          "name": "stdout",
          "text": [
            "            Timestamp  CGPA  Part of any club or society  \\\n",
            "0  2/15/2025 14:15:46   9.0                          0.0   \n",
            "1  2/15/2025 14:19:35   8.8                          0.0   \n",
            "2  2/15/2025 14:20:57   7.4                          0.0   \n",
            "3  2/15/2025 14:23:02   6.2                          0.0   \n",
            "4  2/15/2025 14:27:13   6.6                          0.0   \n",
            "\n",
            "   Position in club or society  Sports  Any internship yet  \\\n",
            "0                          0.0     0.0                 0.0   \n",
            "1                          0.0     0.0                 0.0   \n",
            "2                          0.0     0.0                 0.0   \n",
            "3                          0.0     0.0                 0.0   \n",
            "4                          0.0     0.0                 0.0   \n",
            "\n",
            "   How many Competitions participated? (0 if none)  \\\n",
            "0                                                1   \n",
            "1                                                0   \n",
            "2                                                0   \n",
            "3                                               12   \n",
            "4                                                5   \n",
            "\n",
            "   Participated in hackathon?  \\\n",
            "0                         0.0   \n",
            "1                         0.0   \n",
            "2                         0.0   \n",
            "3                         0.0   \n",
            "4                         0.0   \n",
            "\n",
            "   How many Online hackathons(0 if not participated)  \\\n",
            "0                                                  2   \n",
            "1                                                  1   \n",
            "2                                                  7   \n",
            "3                                                 10   \n",
            "4                                                  0   \n",
            "\n",
            "   How many offline hackathons(0 if not participated)  \n",
            "0                                                  8   \n",
            "1                                                  7   \n",
            "2                                                  2   \n",
            "3                                                 12   \n",
            "4                                                  0   \n"
          ]
        }
      ]
    },
    {
      "cell_type": "code",
      "source": [
        "from sklearn.preprocessing import StandardScaler\n",
        "\n",
        "# Scale the data (important for K-Means)\n",
        "scaler = StandardScaler()\n",
        "data = data.apply(pd.to_numeric, errors='coerce').fillna(0)\n",
        "\n",
        "scaled_data = scaler.fit_transform(data)\n"
      ],
      "metadata": {
        "id": "1GJCyyIu_w65"
      },
      "execution_count": 8,
      "outputs": []
    },
    {
      "cell_type": "code",
      "source": [
        "import matplotlib.pyplot as plt\n",
        "from sklearn.cluster import KMeans\n",
        "\n",
        "inertia = []\n",
        "k_range = range(1, 11)\n",
        "\n",
        "for k in k_range:\n",
        "    kmeans = KMeans(n_clusters=k, random_state=42)\n",
        "    kmeans.fit(scaled_data)\n",
        "    inertia.append(kmeans.inertia_)\n",
        "\n",
        "# Plotting the elbow curve\n",
        "plt.figure(figsize=(8, 5))\n",
        "plt.plot(k_range, inertia, marker='o')\n",
        "plt.xlabel('Number of Clusters')\n",
        "plt.ylabel('Inertia')\n",
        "plt.title('Elbow Method to Determine Optimal K')\n",
        "plt.show()\n"
      ],
      "metadata": {
        "colab": {
          "base_uri": "https://localhost:8080/",
          "height": 487
        },
        "id": "dNvGPycD_-LP",
        "outputId": "2e010263-dc23-435c-d863-9962497d6e3a"
      },
      "execution_count": 9,
      "outputs": [
        {
          "output_type": "display_data",
          "data": {
            "text/plain": [
              "<Figure size 800x500 with 1 Axes>"
            ],
            "image/png": "[encoded data removed]"
          },
          "metadata": {}
        }
      ]
    },
    {
      "cell_type": "code",
      "source": [
        "# Assume the elbow plot suggests 3 clusters (adjust based on your plot)\n",
        "kmeans = KMeans(n_clusters=3, random_state=42)\n",
        "data['Cluster'] = kmeans.fit_predict(scaled_data)\n",
        "\n",
        "print(data[['CGPA', 'Cluster']])  # Check clusters\n"
      ],
      "metadata": {
        "colab": {
          "base_uri": "https://localhost:8080/"
        },
        "id": "D1n21xviAAuv",
        "outputId": "1c3d4c91-2b24-4896-cd72-2130b896746d"
      },
      "execution_count": 10,
      "outputs": [
        {
          "output_type": "stream",
          "name": "stdout",
          "text": [
            "    CGPA  Cluster\n",
            "0   9.00        1\n",
            "1   8.80        1\n",
            "2   7.40        1\n",
            "3   6.20        2\n",
            "4   6.60        0\n",
            "5   8.00        1\n",
            "6   7.80        1\n",
            "7   7.20        0\n",
            "8   6.60        0\n",
            "9   7.54        1\n",
            "10  4.00        0\n",
            "11  8.80        1\n",
            "12  6.90        1\n",
            "13  8.70        1\n",
            "14  9.20        1\n",
            "15  5.60        0\n",
            "16  7.70        1\n",
            "17  8.20        1\n",
            "18  6.95        0\n",
            "19  8.90        1\n"
          ]
        }
      ]
    },
    {
      "cell_type": "code",
      "source": [
        "# Analyze cluster characteristics\n",
        "cluster_summary = data.groupby('Cluster').mean()\n",
        "print(cluster_summary)\n"
      ],
      "metadata": {
        "colab": {
          "base_uri": "https://localhost:8080/"
        },
        "id": "FWkFIpI8ADUJ",
        "outputId": "f743bbcb-b4e8-4946-e2e0-9912f7c0df14"
      },
      "execution_count": 11,
      "outputs": [
        {
          "output_type": "stream",
          "name": "stdout",
          "text": [
            "         Timestamp      CGPA  Part of any club or society  \\\n",
            "Cluster                                                     \n",
            "0              0.0  6.158333                          0.0   \n",
            "1              0.0  8.226154                          0.0   \n",
            "2              0.0  6.200000                          0.0   \n",
            "\n",
            "         Position in club or society  Sports  Any internship yet  \\\n",
            "Cluster                                                            \n",
            "0                                0.0     0.0                 0.0   \n",
            "1                                0.0     0.0                 0.0   \n",
            "2                                0.0     0.0                 0.0   \n",
            "\n",
            "         How many Competitions participated? (0 if none)  \\\n",
            "Cluster                                                    \n",
            "0                                               3.000000   \n",
            "1                                               0.538462   \n",
            "2                                              12.000000   \n",
            "\n",
            "         Participated in hackathon?  \\\n",
            "Cluster                               \n",
            "0                               0.0   \n",
            "1                               0.0   \n",
            "2                               0.0   \n",
            "\n",
            "         How many Online hackathons(0 if not participated)  \\\n",
            "Cluster                                                      \n",
            "0                                                 1.000000   \n",
            "1                                                 3.307692   \n",
            "2                                                10.000000   \n",
            "\n",
            "         How many offline hackathons(0 if not participated)  \n",
            "Cluster                                                      \n",
            "0                                                 1.333333   \n",
            "1                                                 2.923077   \n",
            "2                                                12.000000   \n"
          ]
        }
      ]
    },
    {
      "cell_type": "code",
      "source": [
        "import pandas as pd\n",
        "from sklearn.preprocessing import StandardScaler\n",
        "from sklearn.cluster import KMeans\n",
        "from sklearn.decomposition import PCA\n",
        "import matplotlib.pyplot as plt\n",
        "\n",
        "# Load and preprocess your data (assuming same steps as before)\n",
        "data = pd.read_csv(\"/content/Project - Form Responses 1.csv\")\n",
        "data = data.apply(pd.to_numeric, errors='coerce').fillna(0)\n",
        "\n",
        "# Scale the data\n",
        "scaler = StandardScaler()\n",
        "scaled_data = scaler.fit_transform(data)\n",
        "\n",
        "# Choose optimal K (e.g., from elbow plot, suppose K=3)\n",
        "optimal_k = 3\n",
        "kmeans = KMeans(n_clusters=optimal_k, random_state=42, n_init=10)\n",
        "clusters = kmeans.fit_predict(scaled_data)\n",
        "\n",
        "# Reduce dimensions using PCA\n",
        "pca = PCA(n_components=2)\n",
        "pca_data = pca.fit_transform(scaled_data)\n",
        "\n",
        "# Plot each data point with its cluster label\n",
        "plt.figure(figsize=(8, 6))\n",
        "scatter = plt.scatter(pca_data[:, 0], pca_data[:, 1], c=clusters, cmap='viridis', edgecolor='k')\n",
        "plt.title(f'K-Means Clustering Visualization (K={optimal_k})')\n",
        "plt.xlabel('PCA Component 1')\n",
        "plt.ylabel('PCA Component 2')\n",
        "plt.colorbar(scatter, label='Cluster')\n",
        "plt.show()\n"
      ],
      "metadata": {
        "colab": {
          "base_uri": "https://localhost:8080/",
          "height": 564
        },
        "id": "z4I3aRiuCSDz",
        "outputId": "d957ce26-f87e-4ef0-ffbe-0a236ad586b4"
      },
      "execution_count": 12,
      "outputs": [
        {
          "output_type": "display_data",
          "data": {
            "text/plain": [
              "<Figure size 800x600 with 2 Axes>"
            ],
            "image/png": "[encoded data removed]"
          },
          "metadata": {}
        }
      ]
    },
    {
      "cell_type": "code",
      "source": [
        "from sklearn.preprocessing import StandardScaler\n",
        "from sklearn.cluster import KMeans\n",
        "import joblib\n",
        "\n",
        "# Drop Timestamp\n",
        "data = data.drop(['Timestamp'], axis=1)\n",
        "\n",
        "# Convert to numeric (in case of string values)\n",
        "data = data.apply(pd.to_numeric, errors='coerce')\n",
        "\n",
        "# Handle NaNs if any\n",
        "data = data.fillna(0)  # You can also use other imputation methods if needed\n",
        "\n",
        "# Scale\n",
        "scaler = StandardScaler()\n",
        "scaled_data = scaler.fit_transform(data)\n",
        "\n",
        "# Train\n",
        "kmeans = KMeans(n_clusters=3, random_state=42)\n",
        "kmeans.fit(scaled_data)\n",
        "\n",
        "# Save the scaler and model\n",
        "joblib.dump(scaler, 'scaler.pkl')\n",
        "joblib.dump(kmeans, 'kmeans_model.pkl')\n"
      ],
      "metadata": {
        "colab": {
          "base_uri": "https://localhost:8080/"
        },
        "id": "tFzmuhzgDMWf",
        "outputId": "c3b88af4-c745-4eb2-f0dc-369e95a4229d"
      },
      "execution_count": 18,
      "outputs": [
        {
          "output_type": "execute_result",
          "data": {
            "text/plain": [
              "['kmeans_model.pkl']"
            ]
          },
          "metadata": {},
          "execution_count": 18
        }
      ]
    },
    {
      "cell_type": "code",
      "source": [
        "import numpy as np\n",
        "import joblib\n",
        "\n",
        "# Load the saved scaler and model\n",
        "scaler = joblib.load('scaler.pkl')\n",
        "kmeans = joblib.load('kmeans_model.pkl')\n",
        "\n",
        "# Collect user input\n",
        "cgpa = float(input(\"Enter CGPA: \"))\n",
        "club_society = int(input(\"Enter Club/Society (0-None, 1-Club, 2-Society, 3-Both): \"))\n",
        "position = int(input(\"Enter Position (0-Not a part, 1-Intern, 2-Co-executive, 3-Executive, 4-Director, 5-Treasurer, 6-Joint-secretary, 7-Secretary, 8-Student advisor): \"))\n",
        "sports = int(input(\"Enter Sports (0-None, 1-Plays outdoor game, 2-Plays indoor game): \"))\n",
        "internship = int(input(\"Enter Internship (0-No, 1-Online, 2-Offline): \"))\n",
        "competitions = int(input(\"Enter Number of Competitions Participated: \"))\n",
        "hackathon_participation = int(input(\"Participated in Hackathon? (0-No, 1-Yes): \"))\n",
        "online_hackathons = int(input(\"Number of Online Hackathons Participated: \"))\n",
        "offline_hackathons = int(input(\"Number of Offline Hackathons Participated: \"))\n",
        "\n",
        "# Create numpy array with user input in the same feature order as training data\n",
        "user_data = np.array([[cgpa, club_society, position, sports, internship, competitions, hackathon_participation, online_hackathons, offline_hackathons]])\n",
        "\n",
        "# Scale the user data\n",
        "scaled_user_data = scaler.transform(user_data)\n",
        "\n",
        "# Predict cluster\n",
        "cluster = kmeans.predict(scaled_user_data)[0]\n",
        "\n",
        "# Personalized performance feedback based on cluster\n",
        "if cluster == 0:\n",
        "    feedback = \"\"\"\n",
        "    You are performing at an average level. Here are some areas where you can improve:\n",
        "    - Try participating in more technical competitions or hackathons.\n",
        "    - Consider joining a club or society and taking an active role.\n",
        "    - Gaining internship experience can enhance your practical skills.\n",
        "    \"\"\"\n",
        "elif cluster == 1:\n",
        "    feedback = \"\"\"\n",
        "    Excellent work! You are doing very well.\n",
        "    - You seem to be actively involved in academics and extracurriculars.\n",
        "    - Keep up the good work and consider mentoring others or leading bigger initiatives.\n",
        "    \"\"\"\n",
        "elif cluster == 2:\n",
        "    feedback = \"\"\"\n",
        "    You need some improvement. Consider focusing on the following areas:\n",
        "    - Boost your participation in competitions and hackathons.\n",
        "    - Engage in a club or society to develop leadership and teamwork skills.\n",
        "    - Look for internship opportunities to gain practical industry experience.\n",
        "    \"\"\"\n",
        "\n",
        "print(f\"\\nPredicted Cluster: {cluster}\")\n",
        "print(f\"Performance Feedback: {feedback.strip()}\")\n"
      ],
      "metadata": {
        "colab": {
          "base_uri": "https://localhost:8080/"
        },
        "id": "52hOMqEKDWZi",
        "outputId": "920fb157-c294-43e5-e07d-8fe78a84c03a"
      },
      "execution_count": 20,
      "outputs": [
        {
          "output_type": "stream",
          "name": "stdout",
          "text": [
            "Enter CGPA: 8\n",
            "Enter Club/Society (0-None, 1-Club, 2-Society, 3-Both): 3\n",
            "Enter Position (0-Not a part, 1-Intern, 2-Co-executive, 3-Executive, 4-Director, 5-Treasurer, 6-Joint-secretary, 7-Secretary, 8-Student advisor): 1\n",
            "Enter Sports (0-None, 1-Plays outdoor game, 2-Plays indoor game): 0\n",
            "Enter Internship (0-No, 1-Online, 2-Offline): 0\n",
            "Enter Number of Competitions Participated: 0\n",
            "Participated in Hackathon? (0-No, 1-Yes): 1\n",
            "Number of Online Hackathons Participated: 1\n",
            "Number of Offline Hackathons Participated: 0\n",
            "\n",
            "Predicted Cluster: 1\n",
            "Performance Feedback: Excellent work! You are doing very well.\n",
            "    - You seem to be actively involved in academics and extracurriculars.\n",
            "    - Keep up the good work and consider mentoring others or leading bigger initiatives.\n"
          ]
        },
        {
          "output_type": "stream",
          "name": "stderr",
          "text": [
            "/usr/local/lib/python3.11/dist-packages/sklearn/utils/validation.py:2739: UserWarning: X does not have valid feature names, but StandardScaler was fitted with feature names\n",
            "  warnings.warn(\n"
          ]
        }
      ]
    }
  ]
}